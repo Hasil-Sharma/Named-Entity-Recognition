{
 "cells": [
  {
   "cell_type": "markdown",
   "metadata": {},
   "source": [
    "# NER with NLTK HMM with Part-Of-Speech as features"
   ]
  },
  {
   "cell_type": "markdown",
   "metadata": {},
   "source": [
    "## Results"
   ]
  },
  {
   "cell_type": "markdown",
   "metadata": {},
   "source": [
    " |#ID | #Gold Standard | #Found | #Correct | Precision | Recall | F-1 |\n",
    " |----|----------------|--------|----------|-----------|--------|-----|\n",
    " | 1| 3414 | 1063| 256 | 0.24082784571966134| 0.0750073249340756 | 0.11438784629133154|\n",
    " |2|3392|1084|266|  0.24538745387453875 | 0.07841981132075472 | 0.11885612153708669|\n",
    "\n",
    " 1. Training on 80% of data and 20 % dev with NLTK HMM\n",
    " 2. Training on 80% of data and 20 % dev with NLTK HMM"
   ]
  },
  {
   "cell_type": "code",
   "execution_count": 1,
   "metadata": {
    "ExecuteTime": {
     "end_time": "2017-11-24T03:50:38.583926Z",
     "start_time": "2017-11-24T03:50:38.153612Z"
    }
   },
   "outputs": [],
   "source": [
    "import pandas as pd\n",
    "import numpy as np\n",
    "from StringIO import StringIO\n",
    "from evalNER import eval\n",
    "from collections import Counter\n",
    "import itertools\n",
    "import nltk\n",
    "from nltk.tag import hmm"
   ]
  },
  {
   "cell_type": "code",
   "execution_count": 2,
   "metadata": {
    "ExecuteTime": {
     "end_time": "2017-11-24T03:50:38.601951Z",
     "start_time": "2017-11-24T03:50:38.585219Z"
    }
   },
   "outputs": [],
   "source": [
    "text = open(\"./gene-trainF17.txt\").read()\n",
    "lines = [ y.strip() for y in text.split(\"\\n\\n\")]\n",
    "raw_df = pd.DataFrame(lines, columns = [\"sentence\"])\n",
    "# np.random.seed(1234)\n",
    "msk = np.random.rand(len(raw_df)) < 0.8\n",
    "train_df = raw_df[msk]\n",
    "dev_df = raw_df[~msk]"
   ]
  },
  {
   "cell_type": "markdown",
   "metadata": {},
   "source": [
    "## Training Phase"
   ]
  },
  {
   "cell_type": "code",
   "execution_count": 3,
   "metadata": {
    "ExecuteTime": {
     "end_time": "2017-11-24T03:50:38.605517Z",
     "start_time": "2017-11-24T03:50:38.603145Z"
    }
   },
   "outputs": [],
   "source": [
    "df = train_df.copy()"
   ]
  },
  {
   "cell_type": "code",
   "execution_count": 4,
   "metadata": {
    "ExecuteTime": {
     "end_time": "2017-11-24T03:50:38.906559Z",
     "start_time": "2017-11-24T03:50:38.607098Z"
    }
   },
   "outputs": [],
   "source": [
    "df.loc[:, \"sentence_token\"] = df[\"sentence\"].apply(lambda x : [y.split(\"\\t\") for y in x.split(\"\\n\")])"
   ]
  },
  {
   "cell_type": "code",
   "execution_count": 5,
   "metadata": {
    "ExecuteTime": {
     "end_time": "2017-11-24T03:50:50.713177Z",
     "start_time": "2017-11-24T03:50:38.908097Z"
    },
    "scrolled": true
   },
   "outputs": [],
   "source": [
    "df.loc[:, \"tags\"] = df[\"sentence_token\"].apply(lambda x : [y[2] for y in x])\n",
    "df.loc[:, \"words\"] = df[\"sentence_token\"].apply(lambda x : [y[1] for y in x]) \n",
    "df.loc[:, \"pos\"] = df[\"words\"].apply(lambda x : [ y[1] for y in nltk.pos_tag(x)])\n",
    "df[\"pos_tags\"] = df[[\"pos\", \"tags\"]].apply(lambda x : zip(x[0],x[1]), axis = 1)"
   ]
  },
  {
   "cell_type": "code",
   "execution_count": 6,
   "metadata": {
    "ExecuteTime": {
     "end_time": "2017-11-24T03:50:50.717976Z",
     "start_time": "2017-11-24T03:50:50.714282Z"
    }
   },
   "outputs": [],
   "source": [
    "features = df[\"pos_tags\"].tolist()"
   ]
  },
  {
   "cell_type": "code",
   "execution_count": 7,
   "metadata": {
    "ExecuteTime": {
     "end_time": "2017-11-24T03:50:51.228453Z",
     "start_time": "2017-11-24T03:50:50.719765Z"
    }
   },
   "outputs": [],
   "source": [
    "trainer = hmm.HiddenMarkovModelTrainer()\n",
    "tagger = trainer.train_supervised(features)"
   ]
  },
  {
   "cell_type": "markdown",
   "metadata": {},
   "source": [
    "## Testing Phase"
   ]
  },
  {
   "cell_type": "code",
   "execution_count": 8,
   "metadata": {
    "ExecuteTime": {
     "end_time": "2017-11-24T03:50:54.125032Z",
     "start_time": "2017-11-24T03:50:51.229946Z"
    },
    "scrolled": true
   },
   "outputs": [],
   "source": [
    "test_df = dev_df.copy()\n",
    "test_df.loc[:, \"sentence_token\"] = test_df[\"sentence\"].apply(lambda x : [y.split(\"\\t\") for y in x.split(\"\\n\")])\n",
    "test_df.loc[:, \"tags\"] = test_df[\"sentence_token\"].apply(lambda x : [y[2] for y in x])\n",
    "test_df.loc[:, \"words\"] = test_df[\"sentence_token\"].apply(lambda x : [y[1] for y in x])\n",
    "test_df.loc[:, \"pos\"] = test_df[\"words\"].apply(lambda x :  [x[1] for x in nltk.pos_tag(x)])"
   ]
  },
  {
   "cell_type": "code",
   "execution_count": 9,
   "metadata": {
    "ExecuteTime": {
     "end_time": "2017-11-24T03:50:54.864820Z",
     "start_time": "2017-11-24T03:50:54.126346Z"
    },
    "scrolled": true
   },
   "outputs": [],
   "source": [
    "test_df.loc[:, \"prediction\"] = test_df[\"pos\"].apply(lambda x: [\"\\t\".join(x) for x in tagger.tag(x)])"
   ]
  },
  {
   "cell_type": "code",
   "execution_count": 10,
   "metadata": {
    "ExecuteTime": {
     "end_time": "2017-11-24T03:50:55.103864Z",
     "start_time": "2017-11-24T03:50:54.866139Z"
    },
    "scrolled": true
   },
   "outputs": [
    {
     "name": "stdout",
     "output_type": "stream",
     "text": [
      "(3072, ' entities in gold standard.')\n",
      "(973, ' total entities found.')\n",
      "(227, ' of which were correct.')\n",
      "('Precision: ', 0.23329907502569372, 'Recall: ', 0.07389322916666667, 'F1-measure: ', 0.11223733003708282)\n"
     ]
    }
   ],
   "source": [
    "test_df.loc[:, \"temp1\"] = test_df[\"prediction\"].apply(lambda x : [str(i) + \"\\t\" + y for i,y in enumerate(x,1)])\n",
    "test_df.loc[:, \"temp1\"] = test_df[\"temp1\"].apply(lambda x : \"\\n\".join(x))\n",
    "\n",
    "predictions = \"\\n\\n\".join(test_df[\"temp1\"].tolist())\n",
    "gold_standard = \"\\n\\n\".join(test_df[\"sentence\"].tolist())\n",
    "eval(StringIO(gold_standard), StringIO(predictions))"
   ]
  },
  {
   "cell_type": "code",
   "execution_count": null,
   "metadata": {},
   "outputs": [],
   "source": []
  }
 ],
 "metadata": {
  "kernelspec": {
   "display_name": "Python 2",
   "language": "python",
   "name": "python2"
  },
  "language_info": {
   "codemirror_mode": {
    "name": "ipython",
    "version": 2
   },
   "file_extension": ".py",
   "mimetype": "text/x-python",
   "name": "python",
   "nbconvert_exporter": "python",
   "pygments_lexer": "ipython2",
   "version": "2.7.14"
  },
  "notify_time": "5",
  "varInspector": {
   "cols": {
    "lenName": 16,
    "lenType": 16,
    "lenVar": 40
   },
   "kernels_config": {
    "python": {
     "delete_cmd_postfix": "",
     "delete_cmd_prefix": "del ",
     "library": "var_list.py",
     "varRefreshCmd": "print(var_dic_list())"
    },
    "r": {
     "delete_cmd_postfix": ") ",
     "delete_cmd_prefix": "rm(",
     "library": "var_list.r",
     "varRefreshCmd": "cat(var_dic_list()) "
    }
   },
   "types_to_exclude": [
    "module",
    "function",
    "builtin_function_or_method",
    "instance",
    "_Feature"
   ],
   "window_display": false
  }
 },
 "nbformat": 4,
 "nbformat_minor": 2
}
